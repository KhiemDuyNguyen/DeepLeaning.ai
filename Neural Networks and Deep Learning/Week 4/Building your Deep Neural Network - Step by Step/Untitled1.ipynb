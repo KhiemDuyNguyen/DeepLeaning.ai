{
 "cells": [
  {
   "cell_type": "code",
   "execution_count": 1,
   "metadata": {},
   "outputs": [
    {
     "name": "stdout",
     "output_type": "stream",
     "text": [
      "Building your Deep Neural Network - Step by Step v5.ipynb\n",
      "Building your Deep Neural Network - Step by Step v6.ipynb\n",
      "Building your Deep Neural Network - Step by Step v7.ipynb\n",
      "Building your Deep Neural Network - Step by Step v8.ipynb\n",
      "Untitled.ipynb\n",
      "Untitled1.ipynb\n",
      "__pycache__/\n",
      "__pycache__/testCases_v2.cpython-35.pyc\n",
      "__pycache__/dnn_utils.cpython-35.pyc\n",
      "__pycache__/dnn_utils_v2.cpython-36.pyc\n",
      "__pycache__/testCases.cpython-35.pyc\n",
      "__pycache__/testCases_v3.cpython-35.pyc\n",
      "__pycache__/dnn_utils_v2.cpython-35.pyc\n",
      "__pycache__/testCases_v4.cpython-36.pyc\n",
      "dnn_utils_v2.py\n",
      "images/\n",
      "images/model_architecture2.png\n",
      "images/structure.png\n",
      "images/linearback_kiank.png\n",
      "images/imvector.png\n",
      "images/mn_backward.png\n",
      "images/nm_backward.png\n",
      "images/backprop_kiank.png\n",
      "images/NlayerNN.png\n",
      "images/2layerNN.png\n",
      "images/backprop.png\n",
      "images/final outline.png\n",
      "images/model_architecture_kiank.png\n",
      "images/relu.png\n",
      "images/backpass.png\n",
      "images/n_model_backward.png\n",
      "testCases_v3.py\n",
      "testCases_v4.py\n"
     ]
    }
   ],
   "source": [
    "!tar cvfz allfiles.tar.gz *"
   ]
  },
  {
   "cell_type": "code",
   "execution_count": null,
   "metadata": {
    "collapsed": true
   },
   "outputs": [],
   "source": []
  }
 ],
 "metadata": {
  "kernelspec": {
   "display_name": "Python 3",
   "language": "python",
   "name": "python3"
  },
  "language_info": {
   "codemirror_mode": {
    "name": "ipython",
    "version": 3
   },
   "file_extension": ".py",
   "mimetype": "text/x-python",
   "name": "python",
   "nbconvert_exporter": "python",
   "pygments_lexer": "ipython3",
   "version": "3.6.0"
  }
 },
 "nbformat": 4,
 "nbformat_minor": 2
}
